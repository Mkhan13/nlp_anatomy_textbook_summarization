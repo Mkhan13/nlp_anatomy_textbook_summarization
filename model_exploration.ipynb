{
 "cells": [
  {
   "cell_type": "markdown",
   "id": "eb6b74c5",
   "metadata": {},
   "source": [
    "# Model Exploration\n",
    "The objective of this project is to evaluate 3 approaches to accurately summarize data: a naive approach, a non deep learning approach, and a neural network-based deep learning approach"
   ]
  },
  {
   "cell_type": "code",
   "execution_count": 37,
   "id": "0576d013",
   "metadata": {},
   "outputs": [],
   "source": [
    "# Imports\n"
   ]
  },
  {
   "cell_type": "code",
   "execution_count": 38,
   "id": "019996b1",
   "metadata": {},
   "outputs": [],
   "source": [
    "# Paths\n",
    "PROCESSED_DATA_DIR = \"data/processed\""
   ]
  },
  {
   "cell_type": "markdown",
   "id": "3e41a1bf",
   "metadata": {},
   "source": [
    "### Naive Approach\n",
    "Return the first few sentences of the passage as a summary"
   ]
  },
  {
   "cell_type": "code",
   "execution_count": null,
   "id": "1cfc529c",
   "metadata": {},
   "outputs": [],
   "source": []
  },
  {
   "cell_type": "markdown",
   "id": "6ee050b4",
   "metadata": {},
   "source": [
    "###ANALYSIS###"
   ]
  },
  {
   "cell_type": "markdown",
   "id": "2359d539",
   "metadata": {},
   "source": [
    "### Classical Machine Learning Approach\n",
    "Use TextRank to select key sentences from the passage"
   ]
  },
  {
   "cell_type": "code",
   "execution_count": null,
   "id": "d364a952",
   "metadata": {},
   "outputs": [],
   "source": []
  },
  {
   "cell_type": "markdown",
   "id": "2673c7e9",
   "metadata": {},
   "source": [
    "###ANALYSIS###"
   ]
  },
  {
   "cell_type": "markdown",
   "id": "a151adf8",
   "metadata": {},
   "source": [
    "### Neural Network-based Deep Learning Approach\n",
    "Train a BART model end-to-end to rephrase the content into comprehensive summaries"
   ]
  },
  {
   "cell_type": "code",
   "execution_count": null,
   "id": "3da326c5",
   "metadata": {},
   "outputs": [],
   "source": []
  },
  {
   "cell_type": "markdown",
   "id": "d8f41a63",
   "metadata": {},
   "source": [
    "###ANALYSIS###"
   ]
  }
 ],
 "metadata": {
  "kernelspec": {
   "display_name": ".venv",
   "language": "python",
   "name": "python3"
  },
  "language_info": {
   "codemirror_mode": {
    "name": "ipython",
    "version": 3
   },
   "file_extension": ".py",
   "mimetype": "text/x-python",
   "name": "python",
   "nbconvert_exporter": "python",
   "pygments_lexer": "ipython3",
   "version": "3.12.6"
  }
 },
 "nbformat": 4,
 "nbformat_minor": 5
}
