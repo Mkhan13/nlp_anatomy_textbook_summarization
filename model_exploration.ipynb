{
 "cells": [
  {
   "cell_type": "markdown",
   "id": "eb6b74c5",
   "metadata": {},
   "source": [
    "# Model Exploration\n",
    "The objective of this project is to evaluate 3 approaches to accurately summarize data: a naive approach, a non deep learning approach, and a neural network-based deep learning approach"
   ]
  },
  {
   "cell_type": "code",
   "execution_count": 27,
   "id": "0576d013",
   "metadata": {},
   "outputs": [
    {
     "name": "stderr",
     "output_type": "stream",
     "text": [
      "[nltk_data] Downloading package punkt_tab to\n",
      "[nltk_data]     /Users/mariam/nltk_data...\n",
      "[nltk_data]   Unzipping tokenizers/punkt_tab.zip.\n"
     ]
    },
    {
     "data": {
      "text/plain": [
       "True"
      ]
     },
     "execution_count": 27,
     "metadata": {},
     "output_type": "execute_result"
    }
   ],
   "source": [
    "# Imports\n",
    "import os\n",
    "import re\n",
    "import nltk\n",
    "from rouge import Rouge\n",
    "from bert_score import score\n",
    "\n",
    "nltk.download(\"punkt_tab\") # For sentence tokenization"
   ]
  },
  {
   "cell_type": "code",
   "execution_count": 28,
   "id": "019996b1",
   "metadata": {},
   "outputs": [],
   "source": [
    "# Paths\n",
    "PROCESSED_DATA_DIR = \"data/processed\""
   ]
  },
  {
   "cell_type": "markdown",
   "id": "3e41a1bf",
   "metadata": {},
   "source": [
    "### Naive Approach\n",
    "Return the first few sentences of the passage as a summary"
   ]
  },
  {
   "cell_type": "code",
   "execution_count": 29,
   "id": "8dfbcd00",
   "metadata": {},
   "outputs": [],
   "source": [
    "def get_passage_by_topic(topic):\n",
    "    '''Finds a passage mentioning the topic in the first processed text file.'''\n",
    "    for filename in os.listdir(PROCESSED_DATA_DIR):\n",
    "        if filename.endswith(\".txt\"):\n",
    "            with open(os.path.join(PROCESSED_DATA_DIR, filename), \"r\") as f:\n",
    "                text = f.read()\n",
    "            if re.search(rf\"\\b{re.escape(topic)}\\b\", text, re.IGNORECASE): # Search for whole word match\n",
    "                return text\n",
    "    return None"
   ]
  },
  {
   "cell_type": "code",
   "execution_count": 30,
   "id": "4c9a7d40",
   "metadata": {},
   "outputs": [],
   "source": [
    "def naive_summary(text, n_sentences=3):\n",
    "    '''Return the specified number of sentences as the naive summary'''\n",
    "    sentences = nltk.sent_tokenize(text) # Tokenize into sentences\n",
    "    return \" \".join(sentences[:n_sentences]) # Return the first n sentences"
   ]
  },
  {
   "cell_type": "code",
   "execution_count": 31,
   "id": "3b9fe01e",
   "metadata": {},
   "outputs": [],
   "source": [
    "def evaluate_summary(reference, generated):\n",
    "    '''Compute ROUGE and BERTScore'''\n",
    "    rouge = Rouge()\n",
    "    rouge_scores = rouge.get_scores(generated, reference)[0] # Get the first score dict\n",
    "\n",
    "    # Compute BERTScore\n",
    "    P, R, F1 = score([generated], [reference], lang=\"en\", verbose=False)\n",
    "    bert_f1 = F1.mean().item()\n",
    "\n",
    "    return rouge_scores, bert_f1"
   ]
  },
  {
   "cell_type": "code",
   "execution_count": 36,
   "id": "1cfc529c",
   "metadata": {},
   "outputs": [
    {
     "name": "stdout",
     "output_type": "stream",
     "text": [
      "COMPILED BY HOWIE BAUM OUTLINE AND SCHEDULE - “YOUR AMAZING HUMAN BODY” MODERATOR: Howie Baum WEEK 1 A. Introduction to the class B. Anatomy and Physiology C. Levels of organization of the Human Body D. Characteristics and Maintenance of Life E. Homeostasis and Feedback F. Body Cavities, Membranes, and the 11 Body / Organ Systems G. Diagnostic Imaging techniques and the different types of microscopes and devices for studying the body 2 WEEK 2 ➢ Introductory Chemistry about the atoms and molecules in the body ➢ The importance of Minerals, Vitamins, and Trace mineral elements for the body WEEK 3 ➢ Cells and Tissues ➢ Circulatory System WEEK 4 ➢ Endocrine System ➢ Digestive System WEEK 5 ➢ Immune System ➢ Muscular System WEEK 6 ➢ Nervous System ➢ Integumentary System WEEK 7 ➢ Urinary System ➢ Respiratory System WEEK 8 ➢ Skeletal System/ Joints ➢ Reproductive Systems – Female and Male 4 AN INTRODUCTION TO THE HUMAN BODY ➢ The number of humans in the world now is 7.53 billion (7, 530,000,000) ! ! ➢ More than 250 babies are born every minute, while 150,000 people die daily, with the population increasing by almost three humans per second. ➢ Each of us lives, thinks, worries, and daydreams with, and within, that most complex and marvelous of possessions – a human body !\n"
     ]
    },
    {
     "name": "stderr",
     "output_type": "stream",
     "text": [
      "Some weights of RobertaModel were not initialized from the model checkpoint at roberta-large and are newly initialized: ['pooler.dense.bias', 'pooler.dense.weight']\n",
      "You should probably TRAIN this model on a down-stream task to be able to use it for predictions and inference.\n"
     ]
    },
    {
     "name": "stdout",
     "output_type": "stream",
     "text": [
      "\n",
      "Evaluation\n",
      "ROUGE: {'rouge-1': {'r': 0.1687715269804822, 'p': 0.9932432432432432, 'f': 0.28851815257106156}, 'rouge-2': {'r': 0.11761363636363636, 'p': 0.981042654028436, 'f': 0.21004566018861523}, 'rouge-l': {'r': 0.1687715269804822, 'p': 0.9932432432432432, 'f': 0.28851815257106156}}\n",
      "BERTScore F1: 0.9594\n"
     ]
    }
   ],
   "source": [
    "topic = \"bone\"  # can be changed to any anatomy topic\n",
    "passage = get_passage_by_topic(topic)\n",
    "\n",
    "if passage:\n",
    "    summary = naive_summary(passage, n_sentences=5)\n",
    "    print(summary)\n",
    "\n",
    "    # Placeholder reference for evaluation — replace with gold summaries if available\n",
    "    reference = passage[:len(passage)//2]\n",
    "\n",
    "    rouge_scores, bert_f1 = evaluate_summary(reference, summary)\n",
    "\n",
    "    print(\"\\nEvaluation\")\n",
    "    print(\"ROUGE:\", rouge_scores)\n",
    "    print(\"BERTScore F1:\", round(bert_f1, 4))\n",
    "else:\n",
    "    print(f\"No passages found for topic '{topic}'.\")"
   ]
  },
  {
   "cell_type": "markdown",
   "id": "6ee050b4",
   "metadata": {},
   "source": [
    "###ANALYSIS###"
   ]
  },
  {
   "cell_type": "markdown",
   "id": "2359d539",
   "metadata": {},
   "source": [
    "### Classical Machine Learning Approach\n",
    "Use TextRank to select key sentences from the passage"
   ]
  },
  {
   "cell_type": "code",
   "execution_count": null,
   "id": "d364a952",
   "metadata": {},
   "outputs": [],
   "source": []
  },
  {
   "cell_type": "markdown",
   "id": "2673c7e9",
   "metadata": {},
   "source": [
    "###ANALYSIS###"
   ]
  },
  {
   "cell_type": "markdown",
   "id": "a151adf8",
   "metadata": {},
   "source": [
    "### Neural Network-based Deep Learning Approach\n",
    "Train a BART model end-to-end to rephrase the content into comprehensive summaries"
   ]
  },
  {
   "cell_type": "code",
   "execution_count": null,
   "id": "3da326c5",
   "metadata": {},
   "outputs": [],
   "source": []
  },
  {
   "cell_type": "markdown",
   "id": "d8f41a63",
   "metadata": {},
   "source": [
    "###ANALYSIS###"
   ]
  }
 ],
 "metadata": {
  "kernelspec": {
   "display_name": ".venv",
   "language": "python",
   "name": "python3"
  },
  "language_info": {
   "codemirror_mode": {
    "name": "ipython",
    "version": 3
   },
   "file_extension": ".py",
   "mimetype": "text/x-python",
   "name": "python",
   "nbconvert_exporter": "python",
   "pygments_lexer": "ipython3",
   "version": "3.12.6"
  }
 },
 "nbformat": 4,
 "nbformat_minor": 5
}
